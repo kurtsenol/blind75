{
 "cells": [
  {
   "cell_type": "code",
   "execution_count": 1,
   "metadata": {},
   "outputs": [],
   "source": [
    "from typing import List"
   ]
  },
  {
   "cell_type": "markdown",
   "metadata": {},
   "source": [
    "20. Valid Parentheses"
   ]
  },
  {
   "cell_type": "code",
   "execution_count": 2,
   "metadata": {},
   "outputs": [],
   "source": [
    "def isValid(self, s: str) -> bool:\n",
    "    pmap = {\")\" : \"(\",\n",
    "    \"}\": \"{\" ,\n",
    "    \"]\" : \"[\"}\n",
    "\n",
    "    alist = []\n",
    "    for c in s:\n",
    "        \n",
    "        if c in [\"(\", \"{\", \"[\"]:\n",
    "            alist.append(c)\n",
    "        else:\n",
    "            if not alist:\n",
    "                return False\n",
    "            if alist and alist.pop() != pmap[c]:\n",
    "                return False\n",
    "            \n",
    "    if not alist:\n",
    "        return True"
   ]
  },
  {
   "cell_type": "markdown",
   "metadata": {},
   "source": [
    "150. Evaluate Reverse Polish Notation"
   ]
  },
  {
   "cell_type": "code",
   "execution_count": 3,
   "metadata": {},
   "outputs": [],
   "source": [
    "def evalRPN(self, tokens: List[str]) -> int:\n",
    "\n",
    "    if len(tokens) ==1:\n",
    "        return int(tokens[0])\n",
    "\n",
    "    operators = ['+', '-', '*', '/']\n",
    "    \n",
    "    operand_list  = []\n",
    "\n",
    "    for i in tokens:\n",
    "\n",
    "        if i not in operators:\n",
    "            operand_list.append(i)\n",
    "        else:\n",
    "            second = int(operand_list.pop())\n",
    "            first = int(operand_list.pop())\n",
    "\n",
    "            if i== \"/\":\n",
    "                operand_list.append(first / second)\n",
    "            elif i == \"+\":\n",
    "                operand_list.append(first + second)\n",
    "            elif i == \"*\":\n",
    "                operand_list.append(first * second)\n",
    "            else:\n",
    "                operand_list.append(first - second)\n",
    "    \n",
    "    return int(operand_list[0])"
   ]
  },
  {
   "cell_type": "markdown",
   "metadata": {},
   "source": [
    "22. Generate Parentheses"
   ]
  },
  {
   "cell_type": "code",
   "execution_count": 4,
   "metadata": {},
   "outputs": [],
   "source": [
    "def generateParenthesis(self, n: int) -> List[str]:\n",
    "\n",
    "    def backtrack(S, left, right):\n",
    "\n",
    "        if left == right == n:\n",
    "            res.append(S)\n",
    "            return\n",
    "\n",
    "        if left<n:\n",
    "            backtrack(S + \"(\", left + 1, right)\n",
    "\n",
    "        if right<left:\n",
    "            backtrack(S + \")\", left, right + 1)\n",
    "\n",
    "    res = []\n",
    "    backtrack(S=\"\", left = 0, right=0)\n",
    "\n",
    "    return res"
   ]
  },
  {
   "cell_type": "markdown",
   "metadata": {},
   "source": [
    "739. Daily Temperatures"
   ]
  },
  {
   "cell_type": "code",
   "execution_count": 5,
   "metadata": {},
   "outputs": [],
   "source": [
    "def dailyTemperatures(self, temperatures: List[int]) -> List[int]:\n",
    "    \n",
    "    res = [0] * len(temperatures)\n",
    "    stack = []\n",
    "\n",
    "    for i, t in enumerate(temperatures):\n",
    "        while stack and t > stack[-1][0]:\n",
    "            stack_t, stack_ind = stack.pop()\n",
    "            res[stack_ind] = i-stack_ind \n",
    "        stack.append([t, i])\n",
    "    return res"
   ]
  },
  {
   "cell_type": "markdown",
   "metadata": {},
   "source": [
    "853. Car Fleet"
   ]
  },
  {
   "cell_type": "code",
   "execution_count": 6,
   "metadata": {},
   "outputs": [],
   "source": [
    "def carFleet(self, target: int, position: List[int], speed: List[int]) -> int:\n",
    "    \n",
    "    res = 1\n",
    "    p_s = sorted(list(zip(position, speed)), key = lambda x: - x[0])\n",
    "    stack = [p_s[0]]\n",
    "\n",
    "    for p,s in p_s[1:]:\n",
    "\n",
    "        if s<stack[-1][1] or (p-target)/s < (stack[-1][0] - target) / stack[-1][1]:\n",
    "            stack = [(p,s)]\n",
    "            res +=1\n",
    "            \n",
    "    return res"
   ]
  },
  {
   "cell_type": "code",
   "execution_count": null,
   "metadata": {},
   "outputs": [],
   "source": []
  }
 ],
 "metadata": {
  "kernelspec": {
   "display_name": "myenv",
   "language": "python",
   "name": "python3"
  },
  "language_info": {
   "codemirror_mode": {
    "name": "ipython",
    "version": 3
   },
   "file_extension": ".py",
   "mimetype": "text/x-python",
   "name": "python",
   "nbconvert_exporter": "python",
   "pygments_lexer": "ipython3",
   "version": "3.8.15"
  }
 },
 "nbformat": 4,
 "nbformat_minor": 2
}
