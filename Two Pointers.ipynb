{
 "cells": [
  {
   "cell_type": "code",
   "execution_count": 2,
   "metadata": {},
   "outputs": [],
   "source": [
    "from typing import List"
   ]
  },
  {
   "cell_type": "markdown",
   "metadata": {},
   "source": [
    "217. Contains Duplicate"
   ]
  },
  {
   "cell_type": "code",
   "execution_count": 1,
   "metadata": {},
   "outputs": [],
   "source": [
    "def containsDuplicate(nums):\n",
    "\n",
    "    return len(set(nums)) != len(nums)"
   ]
  },
  {
   "cell_type": "markdown",
   "metadata": {},
   "source": [
    "242. Valid Anagram"
   ]
  },
  {
   "cell_type": "code",
   "execution_count": null,
   "metadata": {},
   "outputs": [],
   "source": [
    "def isAnagram(s: str, t: str):\n",
    "\n",
    "    t_list = list(t)\n",
    "    for c in s:\n",
    "        if c in t_list:\n",
    "            t_list.remove(c)   \n",
    "        else:\n",
    "            return False\n",
    "    \n",
    "    if t_list:\n",
    "        return False\n",
    "    return True\n",
    "        "
   ]
  },
  {
   "cell_type": "markdown",
   "metadata": {},
   "source": [
    "1. Two Sum"
   ]
  },
  {
   "cell_type": "code",
   "execution_count": null,
   "metadata": {},
   "outputs": [],
   "source": [
    "def twoSum(self, nums, target):\n",
    "\n",
    "    hashmap = {}\n",
    "    for i,n in enumerate(nums):\n",
    "\n",
    "        diff = target - n\n",
    "\n",
    "        if diff in hashmap:\n",
    "            return [hashmap[diff], i]\n",
    "        else:\n",
    "            hashmap[n] = i"
   ]
  },
  {
   "cell_type": "markdown",
   "metadata": {},
   "source": [
    "49. Group Anagrams"
   ]
  },
  {
   "cell_type": "code",
   "execution_count": null,
   "metadata": {},
   "outputs": [],
   "source": [
    "def groupAnagrams(self, strs):\n",
    "    hashmap = {}\n",
    "    res = []\n",
    "    for word in strs:\n",
    "        \n",
    "        word_s  = \"\".join(sorted(word))\n",
    "\n",
    "        if not hashmap or not word_s in hashmap.keys():\n",
    "            hashmap[word_s] = [word]\n",
    "        else:\n",
    "            hashmap[word_s].append(word)\n",
    "\n",
    "    return [v for k,v in hashmap.items()]"
   ]
  },
  {
   "cell_type": "markdown",
   "metadata": {},
   "source": [
    "347. Top K Frequent Elements"
   ]
  },
  {
   "cell_type": "code",
   "execution_count": null,
   "metadata": {},
   "outputs": [],
   "source": [
    "def topKFrequent(self, nums: List[int], k: int) -> List[int]:\n",
    "\n",
    "    hashmap = {}\n",
    "\n",
    "    for n in nums:\n",
    "        if n in hashmap:\n",
    "            hashmap[n] +=1\n",
    "        else:\n",
    "            hashmap[n] = 1\n",
    "    \n",
    "    return sorted(hashmap, key = hashmap.get, reverse=True)[:k]"
   ]
  },
  {
   "cell_type": "markdown",
   "metadata": {},
   "source": [
    "238. Product of Array Except Self"
   ]
  },
  {
   "cell_type": "code",
   "execution_count": 3,
   "metadata": {},
   "outputs": [],
   "source": [
    "def productExceptSelf(self, nums: List[int]) -> List[int]:\n",
    "\n",
    "    left = [1]\n",
    "    prefix = 1\n",
    "    for n in nums[:-1]:\n",
    "        prefix *= n\n",
    "        left.append(prefix)\n",
    "\n",
    "    right = [1]\n",
    "    postfix = 1\n",
    "\n",
    "    \n",
    "    for i,n in enumerate(nums[:0:-1]):\n",
    "        postfix *= n\n",
    "        right.insert(0, postfix)\n",
    "    \n",
    "    \n",
    "    return [left[i] * right[i] for i in range(len(left))]"
   ]
  },
  {
   "cell_type": "markdown",
   "metadata": {},
   "source": [
    "36. Valid Sudoku"
   ]
  },
  {
   "cell_type": "code",
   "execution_count": 4,
   "metadata": {},
   "outputs": [],
   "source": [
    "def isValidSudoku(self, board: List[List[str]]) -> bool:\n",
    "    \n",
    "    matrix = {}\n",
    "\n",
    "    for i, row in enumerate(board):\n",
    "        \n",
    "        row_temp =  [r for r in row if r.isdigit()]           \n",
    "\n",
    "        if len(set(row_temp)) != len(row_temp):\n",
    "            return False\n",
    "\n",
    "        for j, col in enumerate(row):\n",
    "            \n",
    "            if i==0:\n",
    "                matrix[(\"col\",j)] = [col]\n",
    "            else:\n",
    "                matrix[(\"col\",j)].append(col)  \n",
    "\n",
    "\n",
    "            i_div = i//3\n",
    "            j_div = j//3\n",
    "\n",
    "            if i%3 == 0 and j%3 ==0:\n",
    "                matrix[(i_div, j_div)] = [col]\n",
    "            else:\n",
    "                matrix[(i_div, j_div)].append(col)\n",
    "\n",
    "    for k,v in matrix.items():\n",
    "        v_temp =  [r for r in v if r.isdigit()]\n",
    "        if len(set(v_temp)) != len(v_temp):\n",
    "            return False\n",
    "\n",
    "    return True"
   ]
  },
  {
   "cell_type": "markdown",
   "metadata": {},
   "source": [
    "128. Longest Consecutive Sequence"
   ]
  },
  {
   "cell_type": "code",
   "execution_count": 5,
   "metadata": {},
   "outputs": [],
   "source": [
    "def longestConsecutive(self, nums: List[int]) -> int:\n",
    "\n",
    "    num_set = set(nums)\n",
    "    length = 0\n",
    "    for start in nums:\n",
    "        if start - 1 not in num_set:\n",
    "            end = start + 1\n",
    "            while end in num_set:\n",
    "                end += 1\n",
    "            length = max(length, end - start)\n",
    "    return length\n"
   ]
  },
  {
   "cell_type": "markdown",
   "metadata": {},
   "source": [
    "125. Valid Palindrome"
   ]
  },
  {
   "cell_type": "code",
   "execution_count": 6,
   "metadata": {},
   "outputs": [],
   "source": [
    "def isPalindrome(self, s: str) -> bool:\n",
    "\n",
    "    s = \"\".join([i.lower() for i in s if i.isalnum()])\n",
    "    print(s)\n",
    "    l = len(s)\n",
    "    \n",
    "    half = l//2\n",
    "    second_half = half if l%2 != 0 else half - 1\n",
    "    if s[:half] != s[:second_half:-1] :\n",
    "        return False\n",
    "    return True"
   ]
  },
  {
   "cell_type": "markdown",
   "metadata": {},
   "source": [
    "167. Two Sum II - Input Array Is Sorted"
   ]
  },
  {
   "cell_type": "code",
   "execution_count": 7,
   "metadata": {},
   "outputs": [],
   "source": [
    "def twoSum(self, numbers: List[int], target: int) -> List[int]:\n",
    "    # ind = None\n",
    "    # l = len(numbers)    \n",
    "    # for i in range(l):\n",
    "\n",
    "    #     try:\n",
    "    #         ind = numbers[i+1:].index(target-numbers[i]) + i +1\n",
    "    #     except:\n",
    "    #         continue\n",
    "    #     if ind:\n",
    "    #         return [i+1, ind+1]\n",
    "\n",
    "        l = len(numbers)    \n",
    "        i = 0\n",
    "        j= l-1\n",
    "        while i < j:\n",
    "            first, second = numbers[i], numbers[j]\n",
    "            if first + second == target:\n",
    "                return [i+1, j+1]\n",
    "            elif first + second > target:\n",
    "                j -=1\n",
    "            else:\n",
    "                i +=1"
   ]
  },
  {
   "cell_type": "markdown",
   "metadata": {},
   "source": [
    "15. 3Sum"
   ]
  },
  {
   "cell_type": "code",
   "execution_count": 8,
   "metadata": {},
   "outputs": [],
   "source": [
    "def threeSum(self, nums: List[int]) -> List[List[int]]:\n",
    "\n",
    "    nums = sorted(nums)\n",
    "    res = []\n",
    "    for ind, n in enumerate(nums[:-2]):\n",
    "    \n",
    "        if n>0:\n",
    "            break\n",
    "\n",
    "        if ind>0 and nums[ind] == nums[ind-1]:\n",
    "            continue\n",
    "        target = -n\n",
    "\n",
    "        start = ind +1 \n",
    "        end = len(nums) - 1\n",
    "\n",
    "        while start<end:\n",
    "        \n",
    "            if nums[start] + nums[end] == target:\n",
    "\n",
    "                # if [n, nums[start], nums[end]] not in res:\n",
    "                res.append([n, nums[start], nums[end]])\n",
    "                start +=1\n",
    "                \n",
    "                while start<end and nums[start] == nums[start-1]:\n",
    "                    start +=1\n",
    "                \n",
    "                while start<end and nums[end] == nums[end-1]:\n",
    "                    end -=1\n",
    "                        \n",
    "            elif nums[start] + nums[end] < target:\n",
    "                start +=1\n",
    "            \n",
    "            else:\n",
    "                end -=1       \n",
    "\n",
    "    return res"
   ]
  },
  {
   "cell_type": "markdown",
   "metadata": {},
   "source": [
    "11. Container With Most Water"
   ]
  },
  {
   "cell_type": "code",
   "execution_count": 9,
   "metadata": {},
   "outputs": [],
   "source": [
    "def maxArea(self, height: List[int]) -> int:\n",
    "    areas = []\n",
    "\n",
    "    left = 0\n",
    "    right = len(height) - 1\n",
    "\n",
    "    while left < right:\n",
    "        area = min(height[left], height[right]) * (right - left)\n",
    "\n",
    "        areas.append(area)\n",
    "\n",
    "        if height[left] <= height[right]:\n",
    "            left += 1\n",
    "        else:\n",
    "            right -= 1\n",
    "\n",
    "    return max(areas)"
   ]
  },
  {
   "cell_type": "code",
   "execution_count": null,
   "metadata": {},
   "outputs": [],
   "source": []
  },
  {
   "cell_type": "code",
   "execution_count": null,
   "metadata": {},
   "outputs": [],
   "source": []
  },
  {
   "cell_type": "code",
   "execution_count": null,
   "metadata": {},
   "outputs": [],
   "source": []
  },
  {
   "cell_type": "code",
   "execution_count": null,
   "metadata": {},
   "outputs": [],
   "source": []
  },
  {
   "cell_type": "code",
   "execution_count": null,
   "metadata": {},
   "outputs": [],
   "source": []
  },
  {
   "cell_type": "code",
   "execution_count": null,
   "metadata": {},
   "outputs": [],
   "source": []
  },
  {
   "cell_type": "code",
   "execution_count": null,
   "metadata": {},
   "outputs": [],
   "source": []
  },
  {
   "cell_type": "code",
   "execution_count": null,
   "metadata": {},
   "outputs": [],
   "source": []
  },
  {
   "cell_type": "code",
   "execution_count": null,
   "metadata": {},
   "outputs": [],
   "source": []
  },
  {
   "cell_type": "code",
   "execution_count": null,
   "metadata": {},
   "outputs": [],
   "source": []
  },
  {
   "cell_type": "code",
   "execution_count": null,
   "metadata": {},
   "outputs": [],
   "source": []
  },
  {
   "cell_type": "code",
   "execution_count": null,
   "metadata": {},
   "outputs": [],
   "source": []
  },
  {
   "cell_type": "code",
   "execution_count": null,
   "metadata": {},
   "outputs": [],
   "source": []
  },
  {
   "cell_type": "markdown",
   "metadata": {},
   "source": [
    "875. Koko Eating Bananas"
   ]
  },
  {
   "cell_type": "code",
   "execution_count": null,
   "metadata": {},
   "outputs": [],
   "source": []
  },
  {
   "cell_type": "code",
   "execution_count": null,
   "metadata": {},
   "outputs": [],
   "source": []
  },
  {
   "cell_type": "code",
   "execution_count": null,
   "metadata": {},
   "outputs": [],
   "source": []
  },
  {
   "cell_type": "code",
   "execution_count": null,
   "metadata": {},
   "outputs": [],
   "source": []
  },
  {
   "cell_type": "code",
   "execution_count": null,
   "metadata": {},
   "outputs": [],
   "source": []
  },
  {
   "cell_type": "code",
   "execution_count": null,
   "metadata": {},
   "outputs": [],
   "source": []
  },
  {
   "cell_type": "code",
   "execution_count": null,
   "metadata": {},
   "outputs": [],
   "source": []
  },
  {
   "cell_type": "code",
   "execution_count": null,
   "metadata": {},
   "outputs": [],
   "source": []
  },
  {
   "cell_type": "code",
   "execution_count": null,
   "metadata": {},
   "outputs": [],
   "source": []
  },
  {
   "cell_type": "code",
   "execution_count": null,
   "metadata": {},
   "outputs": [],
   "source": []
  },
  {
   "cell_type": "code",
   "execution_count": null,
   "metadata": {},
   "outputs": [],
   "source": []
  },
  {
   "cell_type": "code",
   "execution_count": null,
   "metadata": {},
   "outputs": [],
   "source": []
  },
  {
   "cell_type": "code",
   "execution_count": null,
   "metadata": {},
   "outputs": [],
   "source": []
  },
  {
   "cell_type": "code",
   "execution_count": null,
   "metadata": {},
   "outputs": [],
   "source": []
  },
  {
   "cell_type": "code",
   "execution_count": null,
   "metadata": {},
   "outputs": [],
   "source": []
  },
  {
   "cell_type": "code",
   "execution_count": null,
   "metadata": {},
   "outputs": [],
   "source": []
  }
 ],
 "metadata": {
  "kernelspec": {
   "display_name": "myenv",
   "language": "python",
   "name": "python3"
  },
  "language_info": {
   "codemirror_mode": {
    "name": "ipython",
    "version": 3
   },
   "file_extension": ".py",
   "mimetype": "text/x-python",
   "name": "python",
   "nbconvert_exporter": "python",
   "pygments_lexer": "ipython3",
   "version": "3.8.15"
  }
 },
 "nbformat": 4,
 "nbformat_minor": 2
}
