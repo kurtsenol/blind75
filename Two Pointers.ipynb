{
 "cells": [
  {
   "cell_type": "code",
   "execution_count": 2,
   "metadata": {},
   "outputs": [],
   "source": [
    "from typing import List"
   ]
  },
  {
   "cell_type": "markdown",
   "metadata": {},
   "source": [
    "125. Valid Palindrome"
   ]
  },
  {
   "cell_type": "code",
   "execution_count": 6,
   "metadata": {},
   "outputs": [],
   "source": [
    "def isPalindrome(self, s: str) -> bool:\n",
    "\n",
    "    s = \"\".join([i.lower() for i in s if i.isalnum()])\n",
    "    print(s)\n",
    "    l = len(s)\n",
    "    \n",
    "    half = l//2\n",
    "    second_half = half if l%2 != 0 else half - 1\n",
    "    if s[:half] != s[:second_half:-1] :\n",
    "        return False\n",
    "    return True"
   ]
  },
  {
   "cell_type": "markdown",
   "metadata": {},
   "source": [
    "167. Two Sum II - Input Array Is Sorted"
   ]
  },
  {
   "cell_type": "code",
   "execution_count": 7,
   "metadata": {},
   "outputs": [],
   "source": [
    "def twoSum(self, numbers: List[int], target: int) -> List[int]:\n",
    "    # ind = None\n",
    "    # l = len(numbers)    \n",
    "    # for i in range(l):\n",
    "\n",
    "    #     try:\n",
    "    #         ind = numbers[i+1:].index(target-numbers[i]) + i +1\n",
    "    #     except:\n",
    "    #         continue\n",
    "    #     if ind:\n",
    "    #         return [i+1, ind+1]\n",
    "\n",
    "        l = len(numbers)    \n",
    "        i = 0\n",
    "        j= l-1\n",
    "        while i < j:\n",
    "            first, second = numbers[i], numbers[j]\n",
    "            if first + second == target:\n",
    "                return [i+1, j+1]\n",
    "            elif first + second > target:\n",
    "                j -=1\n",
    "            else:\n",
    "                i +=1"
   ]
  },
  {
   "cell_type": "markdown",
   "metadata": {},
   "source": [
    "15. 3Sum"
   ]
  },
  {
   "cell_type": "code",
   "execution_count": 8,
   "metadata": {},
   "outputs": [],
   "source": [
    "def threeSum(self, nums: List[int]) -> List[List[int]]:\n",
    "\n",
    "    nums = sorted(nums)\n",
    "    res = []\n",
    "    for ind, n in enumerate(nums[:-2]):\n",
    "    \n",
    "        if n>0:\n",
    "            break\n",
    "\n",
    "        if ind>0 and nums[ind] == nums[ind-1]:\n",
    "            continue\n",
    "        target = -n\n",
    "\n",
    "        start = ind +1 \n",
    "        end = len(nums) - 1\n",
    "\n",
    "        while start<end:\n",
    "        \n",
    "            if nums[start] + nums[end] == target:\n",
    "\n",
    "                # if [n, nums[start], nums[end]] not in res:\n",
    "                res.append([n, nums[start], nums[end]])\n",
    "                start +=1\n",
    "                \n",
    "                while start<end and nums[start] == nums[start-1]:\n",
    "                    start +=1\n",
    "                \n",
    "                while start<end and nums[end] == nums[end-1]:\n",
    "                    end -=1\n",
    "                        \n",
    "            elif nums[start] + nums[end] < target:\n",
    "                start +=1\n",
    "            \n",
    "            else:\n",
    "                end -=1       \n",
    "\n",
    "    return res"
   ]
  },
  {
   "cell_type": "markdown",
   "metadata": {},
   "source": [
    "11. Container With Most Water"
   ]
  },
  {
   "cell_type": "code",
   "execution_count": 3,
   "metadata": {},
   "outputs": [],
   "source": [
    "def maxArea(self, height: List[int]) -> int:\n",
    "    areas = []\n",
    "\n",
    "    left = 0\n",
    "    right = len(height) - 1\n",
    "\n",
    "    while left < right:\n",
    "        area = min(height[left], height[right]) * (right - left)\n",
    "\n",
    "        areas.append(area)\n",
    "\n",
    "        if height[left] <= height[right]:\n",
    "            left += 1\n",
    "        else:\n",
    "            right -= 1\n",
    "\n",
    "    return max(areas)"
   ]
  },
  {
   "cell_type": "code",
   "execution_count": null,
   "metadata": {},
   "outputs": [],
   "source": []
  }
 ],
 "metadata": {
  "kernelspec": {
   "display_name": "myenv",
   "language": "python",
   "name": "python3"
  },
  "language_info": {
   "codemirror_mode": {
    "name": "ipython",
    "version": 3
   },
   "file_extension": ".py",
   "mimetype": "text/x-python",
   "name": "python",
   "nbconvert_exporter": "python",
   "pygments_lexer": "ipython3",
   "version": "3.8.15"
  }
 },
 "nbformat": 4,
 "nbformat_minor": 2
}
