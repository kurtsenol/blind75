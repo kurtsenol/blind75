{
 "cells": [
  {
   "cell_type": "code",
   "execution_count": 1,
   "metadata": {},
   "outputs": [],
   "source": [
    "from typing import List"
   ]
  },
  {
   "cell_type": "markdown",
   "metadata": {},
   "source": [
    "121. Best Time to Buy and Sell Stock"
   ]
  },
  {
   "cell_type": "code",
   "execution_count": null,
   "metadata": {},
   "outputs": [],
   "source": [
    "def maxProfit(prices: List[int]) -> int:\n",
    "\n",
    "    left = 0\n",
    "    right = 1\n",
    "    profit = 0\n",
    "\n",
    "    while right <= len(prices) - 1:\n",
    "\n",
    "        print(left, right)\n",
    "        if prices[left] >= prices[right]:\n",
    "            left = right\n",
    "            right += 1\n",
    "        else:\n",
    "            profit = max(profit, prices[right] - prices[left])\n",
    "            right += 1\n",
    "    \n",
    "    return profit\n",
    "    "
   ]
  },
  {
   "cell_type": "markdown",
   "metadata": {},
   "source": [
    "3. Longest Substring Without Repeating Characters"
   ]
  },
  {
   "cell_type": "code",
   "execution_count": 1,
   "metadata": {},
   "outputs": [],
   "source": [
    "def lengthOfLongestSubstring(self, s: str) -> int:\n",
    "\n",
    "    left = 0\n",
    "    right = 0\n",
    "    res = 0\n",
    "    temp = set()\n",
    "    l = 0\n",
    "\n",
    "    while right <=len(s) - 1:\n",
    "        # print(left, right, temp)\n",
    "        \n",
    "        if s[right] not in temp:\n",
    "            temp.add(s[right])\n",
    "            l = len(temp) \n",
    "            right +=1\n",
    "        else:\n",
    "            # print(\"temp_1\", temp)\n",
    "            if l > res:\n",
    "                res = len(temp)\n",
    "\n",
    "            while s[right] in temp:\n",
    "                temp.remove(s[left])\n",
    "                left += 1\n",
    "            \n",
    "            temp.add(s[right])\n",
    "            right += 1\n",
    "            # print(\"temp_2\", temp)\n",
    "    \n",
    "    return max(l,res)\n",
    "         "
   ]
  },
  {
   "cell_type": "markdown",
   "metadata": {},
   "source": [
    "424. Longest Repeating Character Replacement"
   ]
  },
  {
   "cell_type": "code",
   "execution_count": 2,
   "metadata": {},
   "outputs": [],
   "source": [
    "def characterReplacement(s: str, k: int) -> int:\n",
    "\n",
    "    count = {}\n",
    "    left = 0\n",
    "    res = 0 \n",
    "\n",
    "    for right in range(len(s)):\n",
    "\n",
    "        count[s[right]] = 1 + count.get(s[right], 0)\n",
    "\n",
    "        char_count = right - left + 1\n",
    "\n",
    "        if char_count - max(count.values()) <= k:\n",
    "            res = max(res, char_count)\n",
    "        \n",
    "        else:\n",
    "            count[s[left]] -= 1\n",
    "\n",
    "            if count[s[left]] == 0:\n",
    "                count.pop(s[left])\n",
    "\n",
    "            left +=1\n",
    "\n",
    "    return res"
   ]
  },
  {
   "cell_type": "markdown",
   "metadata": {},
   "source": [
    "567. Permutation in String"
   ]
  },
  {
   "cell_type": "code",
   "execution_count": null,
   "metadata": {},
   "outputs": [],
   "source": []
  }
 ],
 "metadata": {
  "kernelspec": {
   "display_name": "myenv",
   "language": "python",
   "name": "python3"
  },
  "language_info": {
   "codemirror_mode": {
    "name": "ipython",
    "version": 3
   },
   "file_extension": ".py",
   "mimetype": "text/x-python",
   "name": "python",
   "nbconvert_exporter": "python",
   "pygments_lexer": "ipython3",
   "version": "3.8.15"
  }
 },
 "nbformat": 4,
 "nbformat_minor": 2
}
