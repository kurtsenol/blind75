{
 "cells": [
  {
   "cell_type": "code",
   "execution_count": 1,
   "metadata": {},
   "outputs": [],
   "source": [
    "from typing import List"
   ]
  },
  {
   "cell_type": "markdown",
   "metadata": {},
   "source": [
    "704. Binary Search"
   ]
  },
  {
   "cell_type": "code",
   "execution_count": 2,
   "metadata": {},
   "outputs": [],
   "source": [
    "def search(self, nums: List[int], target: int) -> int:\n",
    "\n",
    "    start = 0\n",
    "    end = len (nums) - 1             \n",
    "    \n",
    "    while start <= end:\n",
    "        print(start, end)\n",
    "        m = (end+start) //2\n",
    "        if nums[m] == target:\n",
    "            return m\n",
    "        elif nums[m] < target:\n",
    "            start = m + 1\n",
    "        elif nums[m] > target:\n",
    "            end = m - 1\n",
    "\n",
    "    return -1"
   ]
  },
  {
   "cell_type": "markdown",
   "metadata": {},
   "source": [
    "74. Search a 2D Matrix"
   ]
  },
  {
   "cell_type": "code",
   "execution_count": 3,
   "metadata": {},
   "outputs": [],
   "source": [
    "def searchMatrix(self, matrix: List[List[int]], target: int) -> bool:\n",
    "\n",
    "    def get_list(matrix, target):\n",
    "        top = 0\n",
    "        bottom = len(matrix) - 1\n",
    "\n",
    "        while top<=bottom:\n",
    "            med = (top + bottom) // 2\n",
    "\n",
    "            if matrix[med][0]<= target <=  matrix[med][-1]:\n",
    "                return med\n",
    "            elif matrix[med][0] > target:\n",
    "                bottom = med - 1\n",
    "            elif matrix[med][-1] < target:\n",
    "                top= med + 1    \n",
    "        return 0   \n",
    "\n",
    "    def get_item(nums, target):\n",
    "\n",
    "        start = 0\n",
    "        end = len(nums) - 1 \n",
    "\n",
    "        while end>=start:\n",
    "\n",
    "            print(start, end)\n",
    "\n",
    "            m = (start + end) // 2 \n",
    "            if nums[m] == target:\n",
    "                return True\n",
    "\n",
    "            elif nums[m] < target:\n",
    "                start = m + 1\n",
    "            elif nums[m] > target:\n",
    "                end = m - 1\n",
    "\n",
    "        return False \n",
    "\n",
    "    med = get_list(matrix, target)\n",
    "    r = get_item(matrix[med], target)\n",
    "    return r\n",
    "\n",
    "\n",
    "    # nums = [i for j in matrix for i in j]\n",
    "\n",
    "    # start = 0\n",
    "    # end = len(nums) - 1 \n",
    "\n",
    "    # while end>=start:\n",
    "\n",
    "    #     m = (start + end) // 2 \n",
    "    #     if nums[m] == target:\n",
    "    #         return True\n",
    "\n",
    "    #     elif nums[m] < target:\n",
    "    #         start = m + 1\n",
    "    #     elif nums[m] > target:\n",
    "    #         end = m - 1\n",
    "\n",
    "    # return False       "
   ]
  },
  {
   "cell_type": "code",
   "execution_count": null,
   "metadata": {},
   "outputs": [],
   "source": []
  },
  {
   "cell_type": "code",
   "execution_count": null,
   "metadata": {},
   "outputs": [],
   "source": []
  },
  {
   "cell_type": "code",
   "execution_count": null,
   "metadata": {},
   "outputs": [],
   "source": []
  },
  {
   "cell_type": "code",
   "execution_count": null,
   "metadata": {},
   "outputs": [],
   "source": []
  },
  {
   "cell_type": "code",
   "execution_count": null,
   "metadata": {},
   "outputs": [],
   "source": []
  },
  {
   "cell_type": "code",
   "execution_count": null,
   "metadata": {},
   "outputs": [],
   "source": []
  },
  {
   "cell_type": "code",
   "execution_count": null,
   "metadata": {},
   "outputs": [],
   "source": []
  }
 ],
 "metadata": {
  "kernelspec": {
   "display_name": "myenv",
   "language": "python",
   "name": "python3"
  },
  "language_info": {
   "codemirror_mode": {
    "name": "ipython",
    "version": 3
   },
   "file_extension": ".py",
   "mimetype": "text/x-python",
   "name": "python",
   "nbconvert_exporter": "python",
   "pygments_lexer": "ipython3",
   "version": "3.8.15"
  }
 },
 "nbformat": 4,
 "nbformat_minor": 2
}
